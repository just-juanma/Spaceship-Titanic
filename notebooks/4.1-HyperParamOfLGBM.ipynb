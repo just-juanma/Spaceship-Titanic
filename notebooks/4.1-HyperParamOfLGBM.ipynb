{
 "cells": [
  {
   "cell_type": "code",
   "execution_count": 2,
   "id": "99f5087d-e91d-4bb0-bddc-0660f2850e01",
   "metadata": {},
   "outputs": [],
   "source": [
    "%%capture\n",
    "%run 4.0-HyperParamOfCatBoost.ipynb"
   ]
  },
  {
   "cell_type": "code",
   "execution_count": 3,
   "id": "341bb0cc-f404-4af7-8ab0-d71843a4786f",
   "metadata": {},
   "outputs": [],
   "source": [
    "model2 = LGBMClassifier()"
   ]
  },
  {
   "cell_type": "code",
   "execution_count": 4,
   "id": "6a6478b2-e254-4ad0-95bc-ed52903bd848",
   "metadata": {},
   "outputs": [],
   "source": [
    "parameters2 = { \"n_estimators\": [100, 300, 500, 600, 650],\n",
    "               \"learning_rate\": [0.01, 0.02, 0.03],\n",
    "               \"random_state\": [0, 42, 48, 50],\n",
    "               \"num_leaves\": [16, 17, 18]}"
   ]
  },
  {
   "cell_type": "code",
   "execution_count": 5,
   "id": "329ca4b9-c112-418a-a8ab-c9727eef6954",
   "metadata": {},
   "outputs": [],
   "source": [
    "grid_search2 = GridSearchCV(model2, parameters2, cv = 5, n_jobs = -1)"
   ]
  },
  {
   "cell_type": "code",
   "execution_count": null,
   "id": "34c1289a-10ae-45d0-bbd8-b0a3dab361d9",
   "metadata": {},
   "outputs": [],
   "source": [
    "grid_search2.fit(x_train, y_train.values.ravel())"
   ]
  },
  {
   "cell_type": "code",
   "execution_count": null,
   "id": "d69548bd-4a18-4a2c-a1ea-769924aefacc",
   "metadata": {},
   "outputs": [],
   "source": [
    "grid_search2.best_score_"
   ]
  },
  {
   "cell_type": "code",
   "execution_count": null,
   "id": "431f246c-3341-47e3-a9a1-479e64d4a256",
   "metadata": {},
   "outputs": [],
   "source": [
    "best_parameters2 = grid_search2.best_params_\n",
    "best_parameters2"
   ]
  },
  {
   "cell_type": "markdown",
   "id": "56b1d436-d038-4a85-a8a1-e74a2b05cc44",
   "metadata": {},
   "source": [
    "1. Creating LGBM Model using the best parameters"
   ]
  },
  {
   "cell_type": "code",
   "execution_count": null,
   "id": "a9b72ff9-8bc4-4897-b193-1fb050158ccc",
   "metadata": {},
   "outputs": [],
   "source": [
    "model2 = LGBMClassifier(**best_parameters2)"
   ]
  },
  {
   "cell_type": "code",
   "execution_count": null,
   "id": "8a11c83b-57e3-4bee-a891-0fe6d099f647",
   "metadata": {},
   "outputs": [],
   "source": [
    "model2.fit(x_train, y_train)"
   ]
  },
  {
   "cell_type": "code",
   "execution_count": null,
   "id": "b4d59512-2fbf-439d-b7e8-1192e74192d3",
   "metadata": {},
   "outputs": [],
   "source": [
    "x_test_pred2 = model2.predict(x_test)"
   ]
  },
  {
   "cell_type": "code",
   "execution_count": null,
   "id": "ba514085-9f4d-4585-b0ab-e8ecdb6c389d",
   "metadata": {},
   "outputs": [],
   "source": [
    "accuracy_score(y_test, x_test_pred2)"
   ]
  }
 ],
 "metadata": {
  "kernelspec": {
   "display_name": "Python 3 (ipykernel)",
   "language": "python",
   "name": "python3"
  },
  "language_info": {
   "codemirror_mode": {
    "name": "ipython",
    "version": 3
   },
   "file_extension": ".py",
   "mimetype": "text/x-python",
   "name": "python",
   "nbconvert_exporter": "python",
   "pygments_lexer": "ipython3",
   "version": "3.10.6"
  }
 },
 "nbformat": 4,
 "nbformat_minor": 5
}
