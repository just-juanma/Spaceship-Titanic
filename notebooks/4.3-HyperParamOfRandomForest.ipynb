{
 "cells": [
  {
   "cell_type": "code",
   "execution_count": null,
   "id": "be75d401-08cd-45e8-95e2-3201cd0bdf09",
   "metadata": {},
   "outputs": [],
   "source": [
    "%%capture\n",
    "%run 4.2-HyperParamOfXGBoost.ipynb"
   ]
  },
  {
   "cell_type": "code",
   "execution_count": null,
   "id": "38a7707e-7712-4fe6-9077-a23bdf167eff",
   "metadata": {},
   "outputs": [],
   "source": [
    "model4 = RandomForestClassifier()"
   ]
  },
  {
   "cell_type": "code",
   "execution_count": null,
   "id": "a5c42d15-56ea-47f0-8364-46254c25627b",
   "metadata": {},
   "outputs": [],
   "source": [
    "parameters4 = {'n_estimators': [100, 300, 500, 550],\n",
    "               'min_samples_split':[7, 8, 9],\n",
    "               'max_depth': [10, 11, 12], \n",
    "               'min_samples_leaf':[4, 5, 6]}"
   ]
  },
  {
   "cell_type": "code",
   "execution_count": null,
   "id": "49a08347-62b1-4c3b-86c2-ff65e45e8338",
   "metadata": {},
   "outputs": [],
   "source": [
    "grid_search4 = GridSearchCV(model4, parameters4, cv = 5, n_jobs = -1)"
   ]
  },
  {
   "cell_type": "code",
   "execution_count": null,
   "id": "ab9dc21d-16b8-4c11-997e-a29d2c3609bd",
   "metadata": {},
   "outputs": [],
   "source": [
    "grid_search4.fit(x_train, y_train.values.ravel())"
   ]
  },
  {
   "cell_type": "code",
   "execution_count": null,
   "id": "ad16a3e5-e449-48c1-97a8-c7a8c2e404df",
   "metadata": {},
   "outputs": [],
   "source": [
    "grid_search4.best_score_"
   ]
  },
  {
   "cell_type": "code",
   "execution_count": null,
   "id": "038271e2-3a77-4198-9faa-7bb32f25f6fe",
   "metadata": {},
   "outputs": [],
   "source": [
    "best_parameters4 = grid_search4.best_params_\n",
    "best_parameters4"
   ]
  },
  {
   "cell_type": "markdown",
   "id": "da18e5dd-f868-444f-8fdd-f2ed7b0803d5",
   "metadata": {},
   "source": [
    "1. Creating Random Forest Model using the best parameters"
   ]
  },
  {
   "cell_type": "code",
   "execution_count": null,
   "id": "a0a6dac2-3d06-4b6b-8618-a06665582158",
   "metadata": {},
   "outputs": [],
   "source": [
    "model4 = RandomForestClassifier(**best_parameters4)"
   ]
  },
  {
   "cell_type": "code",
   "execution_count": null,
   "id": "58946cc3-622d-4f31-99f6-07e1f7ddaf1b",
   "metadata": {},
   "outputs": [],
   "source": [
    "model4.fit(x_train, y_train)"
   ]
  },
  {
   "cell_type": "code",
   "execution_count": null,
   "id": "ccd595b4-7714-4480-bc01-9b149267a125",
   "metadata": {},
   "outputs": [],
   "source": [
    "x_test_pred4 = model4.predict(x_test)"
   ]
  },
  {
   "cell_type": "code",
   "execution_count": null,
   "id": "7518dd59-576e-4aa7-869d-04e6cf4d2798",
   "metadata": {},
   "outputs": [],
   "source": [
    "accuracy_score(y_test, x_test_pred4)"
   ]
  }
 ],
 "metadata": {
  "kernelspec": {
   "display_name": "Python 3 (ipykernel)",
   "language": "python",
   "name": "python3"
  },
  "language_info": {
   "codemirror_mode": {
    "name": "ipython",
    "version": 3
   },
   "file_extension": ".py",
   "mimetype": "text/x-python",
   "name": "python",
   "nbconvert_exporter": "python",
   "pygments_lexer": "ipython3",
   "version": "3.10.6"
  }
 },
 "nbformat": 4,
 "nbformat_minor": 5
}
