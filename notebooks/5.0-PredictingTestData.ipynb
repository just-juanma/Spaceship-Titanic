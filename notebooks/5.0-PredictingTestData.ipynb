{
 "cells": [
  {
   "cell_type": "code",
   "execution_count": 2,
   "id": "dcf56cf9-63be-4122-adf7-28f9d8d25eba",
   "metadata": {},
   "outputs": [],
   "source": [
    "%%capture\n",
    "%run 4.4-StackingClassifierModel.ipynb"
   ]
  },
  {
   "cell_type": "code",
   "execution_count": 3,
   "id": "0ce2f755-d680-45be-9fc2-8cbf935e7016",
   "metadata": {},
   "outputs": [],
   "source": [
    "pred = stacking_model.predict(test_df)"
   ]
  },
  {
   "cell_type": "code",
   "execution_count": 4,
   "id": "67e13494-4a8b-45d1-8917-d94167fe35cb",
   "metadata": {},
   "outputs": [],
   "source": [
    "pass_df[\"Transported\"] = pred"
   ]
  },
  {
   "cell_type": "code",
   "execution_count": 5,
   "id": "9d12d4f2-c91a-4d52-8ce9-3c760a9f43cc",
   "metadata": {},
   "outputs": [],
   "source": [
    "pass_df[\"Transported\"].replace({1: True, 0: False}, inplace = True)"
   ]
  },
  {
   "cell_type": "code",
   "execution_count": 6,
   "id": "998aaf3d-8d72-4bd7-a873-8e0c3ce1328b",
   "metadata": {},
   "outputs": [],
   "source": [
    "pass_df.to_csv(\"../dataset/processed/sample_submission.csv\")"
   ]
  }
 ],
 "metadata": {
  "kernelspec": {
   "display_name": "Python 3 (ipykernel)",
   "language": "python",
   "name": "python3"
  },
  "language_info": {
   "codemirror_mode": {
    "name": "ipython",
    "version": 3
   },
   "file_extension": ".py",
   "mimetype": "text/x-python",
   "name": "python",
   "nbconvert_exporter": "python",
   "pygments_lexer": "ipython3",
   "version": "3.10.6"
  }
 },
 "nbformat": 4,
 "nbformat_minor": 5
}
