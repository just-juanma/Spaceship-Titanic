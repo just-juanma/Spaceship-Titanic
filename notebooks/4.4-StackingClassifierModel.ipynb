{
 "cells": [
  {
   "cell_type": "code",
   "execution_count": null,
   "id": "a38e63f6-98d1-4157-9ac5-0dffd7e33c4c",
   "metadata": {},
   "outputs": [],
   "source": [
    "%%capture\n",
    "%run 4.3-HyperParamOfRandomForest.ipynb"
   ]
  },
  {
   "cell_type": "markdown",
   "id": "08e5c270-7504-4031-a1ff-5e849d2a2349",
   "metadata": {},
   "source": [
    "1. Importing libraries"
   ]
  },
  {
   "cell_type": "code",
   "execution_count": null,
   "id": "3d69a2c2-68a5-43a7-be63-748270dbc5ba",
   "metadata": {},
   "outputs": [],
   "source": [
    "from sklearn.ensemble import StackingClassifier"
   ]
  },
  {
   "cell_type": "code",
   "execution_count": null,
   "id": "f6c68eef-3250-4afc-89d2-9360bcfd84eb",
   "metadata": {},
   "outputs": [],
   "source": [
    "stacking_model = StackingClassifier(estimator = [('CAT Boost', model1),\n",
    "                                                 ('LGBM', model2),\n",
    "                                                 ('XGBoost', model3),\n",
    "                                                 ('RF', model4)])"
   ]
  },
  {
   "cell_type": "code",
   "execution_count": null,
   "id": "c030f444-bcce-475e-b47c-a02e95d69c80",
   "metadata": {},
   "outputs": [],
   "source": [
    "stacking_model.fit(x_train, y_train)"
   ]
  },
  {
   "cell_type": "code",
   "execution_count": null,
   "id": "c4a7b88a-a22c-4994-a9cd-431da5a00c34",
   "metadata": {},
   "outputs": [],
   "source": [
    "x_train_pred5 = stacking_model.predict(x_train)"
   ]
  },
  {
   "cell_type": "code",
   "execution_count": null,
   "id": "7b93f4d4-12bb-47cf-9fcc-d081f855237a",
   "metadata": {},
   "outputs": [],
   "source": [
    "x_test_pred5 = stacking_model.predict(x_test)"
   ]
  },
  {
   "cell_type": "code",
   "execution_count": null,
   "id": "27f686cc-c156-408c-a7b9-f2cb0f1fa7da",
   "metadata": {},
   "outputs": [],
   "source": [
    "print(\"Stacking Model accuracy on Training Data is:\", accuracy_score(y_train, x_train_pred5) * 100)"
   ]
  },
  {
   "cell_type": "code",
   "execution_count": null,
   "id": "a45eb650-a705-4555-b955-d1ed0f215e84",
   "metadata": {},
   "outputs": [],
   "source": [
    "print(\"Stacking Model accuracy on Testing Data is:\", accuracy_score(y_test, x_test_pred5) * 100)"
   ]
  }
 ],
 "metadata": {
  "kernelspec": {
   "display_name": "Python 3 (ipykernel)",
   "language": "python",
   "name": "python3"
  },
  "language_info": {
   "codemirror_mode": {
    "name": "ipython",
    "version": 3
   },
   "file_extension": ".py",
   "mimetype": "text/x-python",
   "name": "python",
   "nbconvert_exporter": "python",
   "pygments_lexer": "ipython3",
   "version": "3.10.6"
  }
 },
 "nbformat": 4,
 "nbformat_minor": 5
}
