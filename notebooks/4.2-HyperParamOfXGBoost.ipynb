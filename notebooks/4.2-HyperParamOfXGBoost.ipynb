{
 "cells": [
  {
   "cell_type": "code",
   "execution_count": null,
   "id": "c538c767-a1f8-42aa-97c6-4108a24f1585",
   "metadata": {},
   "outputs": [],
   "source": [
    "%%capture\n",
    "%run 4.1-HyperParamOfLGBM.ipynb"
   ]
  },
  {
   "cell_type": "code",
   "execution_count": null,
   "id": "fc8ab3c4-b341-4062-9eec-a8177e2c3bfc",
   "metadata": {},
   "outputs": [],
   "source": [
    "model3 = XGBClassifier()"
   ]
  },
  {
   "cell_type": "code",
   "execution_count": null,
   "id": "1ebc04cc-6765-4279-a821-e99e27f1fc71",
   "metadata": {},
   "outputs": [],
   "source": [
    "parameters3 = {\"n_estimators\": [50, 100, 150],\n",
    "               \"random_state\": [0, 42, 50], \n",
    "               \"learning_rate\": [0.1, 0.3, 0.5, 1.0]}"
   ]
  },
  {
   "cell_type": "code",
   "execution_count": null,
   "id": "5036d44c-39b4-4bda-837d-5ed0e173b397",
   "metadata": {},
   "outputs": [],
   "source": [
    "grid_search3 = GridSearchCV(model3, parameters3, cv = 5, n_jobs = -1)"
   ]
  },
  {
   "cell_type": "code",
   "execution_count": null,
   "id": "7c8f8131-e134-45ef-9991-2872bda0a298",
   "metadata": {},
   "outputs": [],
   "source": [
    "grid_search3.fit(x_train, y_train)"
   ]
  },
  {
   "cell_type": "code",
   "execution_count": null,
   "id": "e3629eeb-fa7b-42b1-82ae-1e8f1cb46155",
   "metadata": {},
   "outputs": [],
   "source": [
    "grid_search3.best_score_"
   ]
  },
  {
   "cell_type": "code",
   "execution_count": null,
   "id": "2ecbf0c7-1af9-497a-bf74-d749283aa93a",
   "metadata": {},
   "outputs": [],
   "source": [
    "best_parameters3 = grid_search3.best_params_\n",
    "best_parameters3"
   ]
  },
  {
   "cell_type": "markdown",
   "id": "d0725d20-383e-40b2-9174-ee359b35770f",
   "metadata": {},
   "source": [
    "1. Creating XGBoost Model using the best parameters"
   ]
  },
  {
   "cell_type": "code",
   "execution_count": null,
   "id": "7d2b1080-a3f5-4f3d-a74c-355d7bb016ea",
   "metadata": {},
   "outputs": [],
   "source": [
    "model3 = XGBClassifier(**best_parameters3)"
   ]
  },
  {
   "cell_type": "code",
   "execution_count": null,
   "id": "196ad4c3-6b0b-49f9-8da0-2ce7742d21e7",
   "metadata": {},
   "outputs": [],
   "source": [
    "model3.fit(x_train, y_train)"
   ]
  },
  {
   "cell_type": "code",
   "execution_count": null,
   "id": "a4d76feb-1928-47ab-ad22-e7faf0d2d395",
   "metadata": {},
   "outputs": [],
   "source": [
    "x_test_pred3 = model3.predict(x_test)"
   ]
  },
  {
   "cell_type": "code",
   "execution_count": null,
   "id": "62062a95-96e0-4206-9afb-d71e1819536d",
   "metadata": {},
   "outputs": [],
   "source": [
    "accuracy_score(y_test, x_test_pred3)"
   ]
  }
 ],
 "metadata": {
  "kernelspec": {
   "display_name": "Python 3 (ipykernel)",
   "language": "python",
   "name": "python3"
  },
  "language_info": {
   "codemirror_mode": {
    "name": "ipython",
    "version": 3
   },
   "file_extension": ".py",
   "mimetype": "text/x-python",
   "name": "python",
   "nbconvert_exporter": "python",
   "pygments_lexer": "ipython3",
   "version": "3.10.6"
  }
 },
 "nbformat": 4,
 "nbformat_minor": 5
}
